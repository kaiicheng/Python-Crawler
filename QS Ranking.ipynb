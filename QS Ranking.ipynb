{
 "cells": [
  {
   "cell_type": "code",
   "execution_count": 1,
   "metadata": {},
   "outputs": [],
   "source": [
    "import requests\n",
    "from pyquery import PyQuery as pq"
   ]
  },
  {
   "cell_type": "code",
   "execution_count": 2,
   "metadata": {},
   "outputs": [],
   "source": [
    "homeRes = requests.get(\"https://www.topuniversities.com/subject-rankings/2020\")\n",
    "homeDoc = pq(homeRes.text)   # No need to use ()"
   ]
  },
  {
   "cell_type": "code",
   "execution_count": 3,
   "metadata": {},
   "outputs": [],
   "source": [
    "# print(homeDoc)"
   ]
  },
  {
   "cell_type": "code",
   "execution_count": 4,
   "metadata": {},
   "outputs": [],
   "source": [
    "# print(homeDoc.text())"
   ]
  },
  {
   "cell_type": "code",
   "execution_count": 5,
   "metadata": {},
   "outputs": [],
   "source": [
    "# homeDoc.html()"
   ]
  },
  {
   "cell_type": "code",
   "execution_count": 6,
   "metadata": {
    "scrolled": false
   },
   "outputs": [],
   "source": [
    "# print(homeDoc(\".sub-box-content>.uni-list>.uni-list-link\"))"
   ]
  },
  {
   "cell_type": "code",
   "execution_count": 7,
   "metadata": {},
   "outputs": [
    {
     "name": "stdout",
     "output_type": "stream",
     "text": [
      "\n"
     ]
    }
   ],
   "source": [
    "# homeDoc(\"rank>.td-wrap>.bg>.rank\").text()\n",
    "print(homeDoc(\"row\"))\n",
    "# homeDoc(\".uni>.td-wrap>.logo-wrapper>.title\").text()\n",
    "\n",
    "# homeDoc(\".level3Wrapper> .level3TitleWrapper > a.level3Title\")"
   ]
  },
  {
   "cell_type": "code",
   "execution_count": 8,
   "metadata": {},
   "outputs": [
    {
     "name": "stdout",
     "output_type": "stream",
     "text": [
      "\n"
     ]
    }
   ],
   "source": [
    "print(homeDoc(\".uni>.td-wrap>.logo-wrapper>.title\"))"
   ]
  },
  {
   "cell_type": "code",
   "execution_count": 9,
   "metadata": {
    "scrolled": false
   },
   "outputs": [
    {
     "name": "stdout",
     "output_type": "stream",
     "text": [
      "https://www.topuniversities.com//university-rankings/university-subject-rankings/2020/statistics-operational-research\n"
     ]
    },
    {
     "data": {
      "text/plain": [
       "[{'rank': '',\n",
       "  'name': 'STARS STARS STARS Click the QS Stars for detailed results'}]"
      ]
     },
     "execution_count": 9,
     "metadata": {},
     "output_type": "execute_result"
    }
   ],
   "source": [
    "dataList = []\n",
    "cateList = homeDoc(\"#block-system-main > div > div > div.main_contents.panel-panel > div.site_contents > div > div > div.panel-pane.pane-custom.pane-7 > div > div > div.sub-box-footer > div.sub-list > ul > li:nth-child(15) > a\")\n",
    "\n",
    "for eachCateDoc in cateList.items():   # item\"s\"\n",
    "    # part 1\n",
    "    ad = \"https://www.topuniversities.com/\"\n",
    "    ad = ad + eachCateDoc.attr(\"href\")\n",
    "    #ad = \"https://www.topuniversities.com/university-rankings/world-university-rankings/2020\"\n",
    "    print(ad)\n",
    "    \n",
    "    response = requests.get(ad)   # request\"s\n",
    "    doc = pq(response.text)\n",
    "    # print(doc)\n",
    "    for eachItem in doc(\"#qs-rankings\").items():\n",
    "        dataDict={}\n",
    "        #qs-rankings > tbody > tr:nth-child(1) > td.rank > div > div.bg > span\n",
    "        #print(eachItem(\"div.bg \").text())\n",
    "        dataDict[\"rank\"] = eachItem(\"div.bg \").text()\n",
    "        #qs-rankings > tbody > tr:nth-child(1) > td.uni > div > a.title\n",
    "        #qs-rankings > tbody > tr:nth-child(1) > td.uni > div > a.title\n",
    "        dataDict[\"name\"] = eachItem(\"a\").text()\n",
    "        dataList.append(dataDict)\n",
    "\n",
    "dataList"
   ]
  },
  {
   "cell_type": "code",
   "execution_count": 10,
   "metadata": {
    "scrolled": true
   },
   "outputs": [
    {
     "data": {
      "text/plain": [
       "[{'rank': '',\n",
       "  'name': 'STARS STARS STARS Click the QS Stars for detailed results'}]"
      ]
     },
     "execution_count": 10,
     "metadata": {},
     "output_type": "execute_result"
    }
   ],
   "source": [
    "dataList"
   ]
  },
  {
   "cell_type": "code",
   "execution_count": null,
   "metadata": {},
   "outputs": [],
   "source": []
  },
  {
   "cell_type": "code",
   "execution_count": null,
   "metadata": {},
   "outputs": [],
   "source": []
  },
  {
   "cell_type": "code",
   "execution_count": null,
   "metadata": {},
   "outputs": [],
   "source": []
  }
 ],
 "metadata": {
  "kernelspec": {
   "display_name": "Python 3",
   "language": "python",
   "name": "python3"
  },
  "language_info": {
   "codemirror_mode": {
    "name": "ipython",
    "version": 3
   },
   "file_extension": ".py",
   "mimetype": "text/x-python",
   "name": "python",
   "nbconvert_exporter": "python",
   "pygments_lexer": "ipython3",
   "version": "3.7.6"
  }
 },
 "nbformat": 4,
 "nbformat_minor": 4
}
