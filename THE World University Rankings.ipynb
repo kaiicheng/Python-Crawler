{
 "cells": [
  {
   "cell_type": "code",
   "execution_count": 1,
   "metadata": {},
   "outputs": [
    {
     "name": "stdout",
     "output_type": "stream",
     "text": [
      "Requirement already satisfied: pytesseract in c:\\users\\paul\\anaconda3\\lib\\site-packages (0.3.4)\n",
      "Requirement already satisfied: Pillow in c:\\users\\paul\\anaconda3\\lib\\site-packages (from pytesseract) (7.0.0)\n",
      "Requirement already satisfied: pyquery in c:\\users\\paul\\anaconda3\\lib\\site-packages (1.4.1)\n",
      "Requirement already satisfied: cssselect>0.7.9 in c:\\users\\paul\\anaconda3\\lib\\site-packages (from pyquery) (1.1.0)\n",
      "Requirement already satisfied: lxml>=2.1 in c:\\users\\paul\\anaconda3\\lib\\site-packages (from pyquery) (4.5.0)\n"
     ]
    }
   ],
   "source": [
    "!pip3 install pytesseract\n",
    "!pip install pyquery\n",
    "import requests\n",
    "from pyquery import PyQuery as pq"
   ]
  },
  {
   "cell_type": "code",
   "execution_count": 2,
   "metadata": {},
   "outputs": [],
   "source": [
    "from selenium.webdriver.support.ui import Select\n",
    "from selenium import webdriver\n",
    "import requests\n",
    "import pytesseract\n",
    "from PIL import Image, ImageEnhance"
   ]
  },
  {
   "cell_type": "code",
   "execution_count": 3,
   "metadata": {},
   "outputs": [],
   "source": [
    "driver = webdriver.Chrome(\"/Users/Paul/Desktop/Python Crawler/chromedriver.exe\")"
   ]
  },
  {
   "cell_type": "code",
   "execution_count": 4,
   "metadata": {
    "scrolled": true
   },
   "outputs": [
    {
     "data": {
      "text/plain": [
       "'https://www.timeshighereducation.com/world-university-rankings/2020/subject-ranking/physical-sciences#!/page/0/length/25/sort_by/rank/sort_order/asc/cols/stats'"
      ]
     },
     "execution_count": 4,
     "metadata": {},
     "output_type": "execute_result"
    }
   ],
   "source": [
    "driver.get(\"https://www.timeshighereducation.com/world-university-rankings/2020/subject-ranking/physical-sciences#!/page/0/length/25/subjects/3075/sort_by/rank/sort_order/asc/cols/stats\")\n",
    "driver.current_url"
   ]
  },
  {
   "cell_type": "code",
   "execution_count": 5,
   "metadata": {},
   "outputs": [
    {
     "ename": "UnexpectedTagNameException",
     "evalue": "Message: Select only works on <select> elements, not on <ul>\n",
     "output_type": "error",
     "traceback": [
      "\u001b[1;31m---------------------------------------------------------------------------\u001b[0m",
      "\u001b[1;31mUnexpectedTagNameException\u001b[0m                Traceback (most recent call last)",
      "\u001b[1;32m<ipython-input-5-2841f6c023c0>\u001b[0m in \u001b[0;36m<module>\u001b[1;34m\u001b[0m\n\u001b[1;32m----> 1\u001b[1;33m \u001b[0msubject\u001b[0m \u001b[1;33m=\u001b[0m \u001b[0mSelect\u001b[0m\u001b[1;33m(\u001b[0m\u001b[0mdriver\u001b[0m\u001b[1;33m.\u001b[0m\u001b[0mfind_element_by_css_selector\u001b[0m\u001b[1;33m(\u001b[0m\u001b[1;34m\"#subjects_chosen > div > ul\"\u001b[0m\u001b[1;33m)\u001b[0m\u001b[1;33m)\u001b[0m\u001b[1;33m\u001b[0m\u001b[1;33m\u001b[0m\u001b[0m\n\u001b[0m\u001b[0;32m      2\u001b[0m \u001b[0msubject\u001b[0m\u001b[1;33m.\u001b[0m\u001b[0mselect_by_index\u001b[0m\u001b[1;33m(\u001b[0m\u001b[1;36m5\u001b[0m\u001b[1;33m)\u001b[0m\u001b[1;33m\u001b[0m\u001b[1;33m\u001b[0m\u001b[0m\n",
      "\u001b[1;32m~\\anaconda3\\lib\\site-packages\\selenium\\webdriver\\support\\select.py\u001b[0m in \u001b[0;36m__init__\u001b[1;34m(self, webelement)\u001b[0m\n\u001b[0;32m     37\u001b[0m             raise UnexpectedTagNameException(\n\u001b[0;32m     38\u001b[0m                 \u001b[1;34m\"Select only works on <select> elements, not on <%s>\"\u001b[0m \u001b[1;33m%\u001b[0m\u001b[1;33m\u001b[0m\u001b[1;33m\u001b[0m\u001b[0m\n\u001b[1;32m---> 39\u001b[1;33m                 webelement.tag_name)\n\u001b[0m\u001b[0;32m     40\u001b[0m         \u001b[0mself\u001b[0m\u001b[1;33m.\u001b[0m\u001b[0m_el\u001b[0m \u001b[1;33m=\u001b[0m \u001b[0mwebelement\u001b[0m\u001b[1;33m\u001b[0m\u001b[1;33m\u001b[0m\u001b[0m\n\u001b[0;32m     41\u001b[0m         \u001b[0mmulti\u001b[0m \u001b[1;33m=\u001b[0m \u001b[0mself\u001b[0m\u001b[1;33m.\u001b[0m\u001b[0m_el\u001b[0m\u001b[1;33m.\u001b[0m\u001b[0mget_attribute\u001b[0m\u001b[1;33m(\u001b[0m\u001b[1;34m\"multiple\"\u001b[0m\u001b[1;33m)\u001b[0m\u001b[1;33m\u001b[0m\u001b[1;33m\u001b[0m\u001b[0m\n",
      "\u001b[1;31mUnexpectedTagNameException\u001b[0m: Message: Select only works on <select> elements, not on <ul>\n"
     ]
    }
   ],
   "source": [
    "subject = Select(driver.find_element_by_css_selector(\"#subjects_chosen > div > ul\"))\n",
    "subject.select_by_index(5)"
   ]
  },
  {
   "cell_type": "code",
   "execution_count": null,
   "metadata": {},
   "outputs": [],
   "source": [
    "dataList = []\n",
    "cateList = homeDoc(\"#app > div > div:nth-child(1) > div:nth-child(7) > div > div.Cell-sc-1abjmm4-0.kFWqNQ > div:nth-child(12) > div.Grid-lx2f3i-0.drroCv > div > div > div:nth-child(2) > p.Paragraph-sc-1iyax29-0.RankingIndex__ListItem-sc-1yrcg39-2.bZvJzo > a\")\n",
    "\n",
    "for eachCateDoc in cateList.items():\n",
    "    ad = cateList.attr(\"href\")\n",
    "    praint(ad)\n",
    "    cateRes = requests.get(ad)   # request\"s\n",
    "    cateDoc = pq(cateRes.text)    \n",
    "    nextPgDoc = cateDoc"
   ]
  },
  {
   "cell_type": "code",
   "execution_count": null,
   "metadata": {},
   "outputs": [],
   "source": []
  },
  {
   "cell_type": "code",
   "execution_count": null,
   "metadata": {},
   "outputs": [],
   "source": []
  },
  {
   "cell_type": "code",
   "execution_count": null,
   "metadata": {},
   "outputs": [],
   "source": []
  },
  {
   "cell_type": "code",
   "execution_count": null,
   "metadata": {},
   "outputs": [],
   "source": []
  }
 ],
 "metadata": {
  "kernelspec": {
   "display_name": "Python 3",
   "language": "python",
   "name": "python3"
  },
  "language_info": {
   "codemirror_mode": {
    "name": "ipython",
    "version": 3
   },
   "file_extension": ".py",
   "mimetype": "text/x-python",
   "name": "python",
   "nbconvert_exporter": "python",
   "pygments_lexer": "ipython3",
   "version": "3.7.6"
  }
 },
 "nbformat": 4,
 "nbformat_minor": 4
}
